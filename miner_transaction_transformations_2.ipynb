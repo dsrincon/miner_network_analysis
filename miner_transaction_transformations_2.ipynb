{
 "cells": [
  {
   "cell_type": "markdown",
   "metadata": {},
   "source": [
    "# Miner transaction transformations - 2"
   ]
  },
  {
   "cell_type": "markdown",
   "metadata": {},
   "source": [
    "This notebook extends the transformations of data performed in miner_transaction transformation 1 to be able to efficiently define a graph miner transactions. "
   ]
  },
  {
   "cell_type": "code",
   "execution_count": 2,
   "metadata": {},
   "outputs": [],
   "source": [
    "# Import relevant libraries\n",
    "import pandas as pd\n",
    "import numpy as np"
   ]
  },
  {
   "cell_type": "markdown",
   "metadata": {},
   "source": [
    "### Aggregate miner data"
   ]
  },
  {
   "cell_type": "code",
   "execution_count": 26,
   "metadata": {},
   "outputs": [
    {
     "data": {
      "text/html": [
       "<div>\n",
       "<style scoped>\n",
       "    .dataframe tbody tr th:only-of-type {\n",
       "        vertical-align: middle;\n",
       "    }\n",
       "\n",
       "    .dataframe tbody tr th {\n",
       "        vertical-align: top;\n",
       "    }\n",
       "\n",
       "    .dataframe thead th {\n",
       "        text-align: right;\n",
       "    }\n",
       "</style>\n",
       "<table border=\"1\" class=\"dataframe\">\n",
       "  <thead>\n",
       "    <tr style=\"text-align: right;\">\n",
       "      <th></th>\n",
       "      <th>miner</th>\n",
       "      <th>count</th>\n",
       "      <th>sum</th>\n",
       "      <th>nunique</th>\n",
       "      <th>max</th>\n",
       "    </tr>\n",
       "  </thead>\n",
       "  <tbody>\n",
       "    <tr>\n",
       "      <th>0</th>\n",
       "      <td>0xea674fdde714fd979de3edf0f56aa9716b898ec8</td>\n",
       "      <td>1677231.0</td>\n",
       "      <td>158881295.0</td>\n",
       "      <td>137.0</td>\n",
       "      <td>×\u0001\u0004\\nGethgo1.5.1",
       "linux</td>\n",
       "    </tr>\n",
       "    <tr>\n",
       "      <th>1</th>\n",
       "      <td>0x52bc44d5378309ee2abf1539bf71de1b7d7be3b5</td>\n",
       "      <td>961958.0</td>\n",
       "      <td>66720193.0</td>\n",
       "      <td>33.0</td>\n",
       "      <td>Ü\u0001\u0004</td>\n",
       "    </tr>\n",
       "    <tr>\n",
       "      <th>2</th>\n",
       "      <td>0x2a65aca4d5fc5b5c859090a6c34d164135398226</td>\n",
       "      <td>933307.0</td>\n",
       "      <td>19097355.0</td>\n",
       "      <td>24.0</td>\n",
       "      <td>×\u0001\u0004\bGethgo1.6.2",
       "linux</td>\n",
       "    </tr>\n",
       "    <tr>\n",
       "      <th>3</th>\n",
       "      <td>0x5a0b54d5dc17e0aadc383d2db43b0a0d3e029c4c</td>\n",
       "      <td>861883.0</td>\n",
       "      <td>96817057.0</td>\n",
       "      <td>116.0</td>\n",
       "      <td>Þ\u0002\u0005\u0007Parity-Ethereum1.36.0li</td>\n",
       "    </tr>\n",
       "    <tr>\n",
       "      <th>4</th>\n",
       "      <td>0x829bd824b016326a401d083b33d092293333a830</td>\n",
       "      <td>799757.0</td>\n",
       "      <td>89240980.0</td>\n",
       "      <td>901.0</td>\n",
       "      <td>ä¸å½©ç¥ä»é±¼ÿû®</td>\n",
       "    </tr>\n",
       "  </tbody>\n",
       "</table>\n",
       "</div>"
      ],
      "text/plain": [
       "                                        miner      count          sum  \\\n",
       "0  0xea674fdde714fd979de3edf0f56aa9716b898ec8  1677231.0  158881295.0   \n",
       "1  0x52bc44d5378309ee2abf1539bf71de1b7d7be3b5   961958.0   66720193.0   \n",
       "2  0x2a65aca4d5fc5b5c859090a6c34d164135398226   933307.0   19097355.0   \n",
       "3  0x5a0b54d5dc17e0aadc383d2db43b0a0d3e029c4c   861883.0   96817057.0   \n",
       "4  0x829bd824b016326a401d083b33d092293333a830   799757.0   89240980.0   \n",
       "\n",
       "   nunique                              max  \n",
       "0    137.0        ×\u0001\u0004\\nGethgo1.5.1\n",
       "linux  \n",
       "1     33.0                             Ü\u0001\u0004  \n",
       "2     24.0         ×\u0001\u0004\bGethgo1.6.2\n",
       "linux  \n",
       "3    116.0  Þ\u0002\u0005\u0007Parity-Ethereum1.36.0li  \n",
       "4    901.0              ä¸å½©ç¥ä»é±¼ÿû®  "
      ]
     },
     "execution_count": 26,
     "metadata": {},
     "output_type": "execute_result"
    }
   ],
   "source": [
    "# Import miner data\n",
    "miners=pd.read_csv('/Users/dsrincon/Dropbox/Personal/EDU/Posgrado/masters_usa/MIMS/research/miner_network/data/miners_summary.csv')\n",
    "miners.head()"
   ]
  },
  {
   "cell_type": "code",
   "execution_count": 27,
   "metadata": {},
   "outputs": [
    {
     "data": {
      "text/html": [
       "<div>\n",
       "<style scoped>\n",
       "    .dataframe tbody tr th:only-of-type {\n",
       "        vertical-align: middle;\n",
       "    }\n",
       "\n",
       "    .dataframe tbody tr th {\n",
       "        vertical-align: top;\n",
       "    }\n",
       "\n",
       "    .dataframe thead th {\n",
       "        text-align: right;\n",
       "    }\n",
       "</style>\n",
       "<table border=\"1\" class=\"dataframe\">\n",
       "  <thead>\n",
       "    <tr style=\"text-align: right;\">\n",
       "      <th></th>\n",
       "      <th>no. blocks</th>\n",
       "      <th>no. transactions</th>\n",
       "      <th>unique tags</th>\n",
       "      <th>miner_tag</th>\n",
       "      <th>miner_id</th>\n",
       "      <th>miner</th>\n",
       "    </tr>\n",
       "    <tr>\n",
       "      <th>miner</th>\n",
       "      <th></th>\n",
       "      <th></th>\n",
       "      <th></th>\n",
       "      <th></th>\n",
       "      <th></th>\n",
       "      <th></th>\n",
       "    </tr>\n",
       "  </thead>\n",
       "  <tbody>\n",
       "    <tr>\n",
       "      <th>0xea674fdde714fd979de3edf0f56aa9716b898ec8</th>\n",
       "      <td>1677231.0</td>\n",
       "      <td>158881295.0</td>\n",
       "      <td>137.0</td>\n",
       "      <td>×\u0001\u0004\\nGethgo1.5.1",
       "linux</td>\n",
       "      <td>0</td>\n",
       "      <td>0xea674fdde714fd979de3edf0f56aa9716b898ec8</td>\n",
       "    </tr>\n",
       "    <tr>\n",
       "      <th>0x52bc44d5378309ee2abf1539bf71de1b7d7be3b5</th>\n",
       "      <td>961958.0</td>\n",
       "      <td>66720193.0</td>\n",
       "      <td>33.0</td>\n",
       "      <td>Ü\u0001\u0004</td>\n",
       "      <td>1</td>\n",
       "      <td>0x52bc44d5378309ee2abf1539bf71de1b7d7be3b5</td>\n",
       "    </tr>\n",
       "    <tr>\n",
       "      <th>0x2a65aca4d5fc5b5c859090a6c34d164135398226</th>\n",
       "      <td>933307.0</td>\n",
       "      <td>19097355.0</td>\n",
       "      <td>24.0</td>\n",
       "      <td>×\u0001\u0004\bGethgo1.6.2",
       "linux</td>\n",
       "      <td>2</td>\n",
       "      <td>0x2a65aca4d5fc5b5c859090a6c34d164135398226</td>\n",
       "    </tr>\n",
       "    <tr>\n",
       "      <th>0x5a0b54d5dc17e0aadc383d2db43b0a0d3e029c4c</th>\n",
       "      <td>861883.0</td>\n",
       "      <td>96817057.0</td>\n",
       "      <td>116.0</td>\n",
       "      <td>Þ\u0002\u0005\u0007Parity-Ethereum1.36.0li</td>\n",
       "      <td>3</td>\n",
       "      <td>0x5a0b54d5dc17e0aadc383d2db43b0a0d3e029c4c</td>\n",
       "    </tr>\n",
       "    <tr>\n",
       "      <th>0x829bd824b016326a401d083b33d092293333a830</th>\n",
       "      <td>799757.0</td>\n",
       "      <td>89240980.0</td>\n",
       "      <td>901.0</td>\n",
       "      <td>ä¸å½©ç¥ä»é±¼ÿû®</td>\n",
       "      <td>4</td>\n",
       "      <td>0x829bd824b016326a401d083b33d092293333a830</td>\n",
       "    </tr>\n",
       "  </tbody>\n",
       "</table>\n",
       "</div>"
      ],
      "text/plain": [
       "                                            no. blocks  no. transactions  \\\n",
       "miner                                                                      \n",
       "0xea674fdde714fd979de3edf0f56aa9716b898ec8   1677231.0       158881295.0   \n",
       "0x52bc44d5378309ee2abf1539bf71de1b7d7be3b5    961958.0        66720193.0   \n",
       "0x2a65aca4d5fc5b5c859090a6c34d164135398226    933307.0        19097355.0   \n",
       "0x5a0b54d5dc17e0aadc383d2db43b0a0d3e029c4c    861883.0        96817057.0   \n",
       "0x829bd824b016326a401d083b33d092293333a830    799757.0        89240980.0   \n",
       "\n",
       "                                            unique tags  \\\n",
       "miner                                                     \n",
       "0xea674fdde714fd979de3edf0f56aa9716b898ec8        137.0   \n",
       "0x52bc44d5378309ee2abf1539bf71de1b7d7be3b5         33.0   \n",
       "0x2a65aca4d5fc5b5c859090a6c34d164135398226         24.0   \n",
       "0x5a0b54d5dc17e0aadc383d2db43b0a0d3e029c4c        116.0   \n",
       "0x829bd824b016326a401d083b33d092293333a830        901.0   \n",
       "\n",
       "                                                                  miner_tag  \\\n",
       "miner                                                                         \n",
       "0xea674fdde714fd979de3edf0f56aa9716b898ec8        ×\u0001\u0004\\nGethgo1.5.1\n",
       "linux   \n",
       "0x52bc44d5378309ee2abf1539bf71de1b7d7be3b5                             Ü\u0001\u0004   \n",
       "0x2a65aca4d5fc5b5c859090a6c34d164135398226         ×\u0001\u0004\bGethgo1.6.2\n",
       "linux   \n",
       "0x5a0b54d5dc17e0aadc383d2db43b0a0d3e029c4c  Þ\u0002\u0005\u0007Parity-Ethereum1.36.0li   \n",
       "0x829bd824b016326a401d083b33d092293333a830              ä¸å½©ç¥ä»é±¼ÿû®   \n",
       "\n",
       "                                            miner_id  \\\n",
       "miner                                                  \n",
       "0xea674fdde714fd979de3edf0f56aa9716b898ec8         0   \n",
       "0x52bc44d5378309ee2abf1539bf71de1b7d7be3b5         1   \n",
       "0x2a65aca4d5fc5b5c859090a6c34d164135398226         2   \n",
       "0x5a0b54d5dc17e0aadc383d2db43b0a0d3e029c4c         3   \n",
       "0x829bd824b016326a401d083b33d092293333a830         4   \n",
       "\n",
       "                                                                                 miner  \n",
       "miner                                                                                   \n",
       "0xea674fdde714fd979de3edf0f56aa9716b898ec8  0xea674fdde714fd979de3edf0f56aa9716b898ec8  \n",
       "0x52bc44d5378309ee2abf1539bf71de1b7d7be3b5  0x52bc44d5378309ee2abf1539bf71de1b7d7be3b5  \n",
       "0x2a65aca4d5fc5b5c859090a6c34d164135398226  0x2a65aca4d5fc5b5c859090a6c34d164135398226  \n",
       "0x5a0b54d5dc17e0aadc383d2db43b0a0d3e029c4c  0x5a0b54d5dc17e0aadc383d2db43b0a0d3e029c4c  \n",
       "0x829bd824b016326a401d083b33d092293333a830  0x829bd824b016326a401d083b33d092293333a830  "
      ]
     },
     "execution_count": 27,
     "metadata": {},
     "output_type": "execute_result"
    }
   ],
   "source": [
    "# Add miner id and change index\n",
    "miners['miner_id']=miners.index #Use index of sorted dataframe (ranking) as miner_id\n",
    "miners=miners.rename(columns={\"count\": \"no. blocks\", \"sum\": \"no. transactions\",\"nunique\": \"unique tags\",'max':'miner_tag'})\n",
    "miners.to_csv(r'/Users/dsrincon/Dropbox/Personal/EDU/Posgrado/masters_usa/MIMS/research/miner_network/data/miners.csv')\n",
    "\n",
    "# Additional transformations for edge calculations\n",
    "miners.set_index('miner',inplace=True) #Set address as index\n",
    "miners['miner']=miners.index\n",
    "miners.head()"
   ]
  },
  {
   "cell_type": "markdown",
   "metadata": {},
   "source": [
    "## Miner transactions "
   ]
  },
  {
   "cell_type": "code",
   "execution_count": 5,
   "metadata": {},
   "outputs": [
    {
     "name": "stdout",
     "output_type": "stream",
     "text": [
      "Number of cut-offs: 51\n",
      "Example of row for each cut-off: ['0x002e08000acbbae2155fab7ac01929564949070d0x12eb9bce34341d1163814843f8dca44dfebe913c'\n",
      " 4.9914077324600004e+20]\n"
     ]
    }
   ],
   "source": [
    "# Load miner transaction data: Numpy array that contains transaction cut-offs for every month since start of network\n",
    "miners_evolution=np.load('/Users/dsrincon/Dropbox/Personal/EDU/Posgrado/masters_usa/MIMS/research/miner_network/data/miners_evolution.npy',allow_pickle=True)\n",
    "print('Number of cut-offs: {}'.format(len(miners_evolution)))\n",
    "print('Example of row for each cut-off: {}'.format(miners_evolution[50][10]))"
   ]
  },
  {
   "cell_type": "markdown",
   "metadata": {},
   "source": [
    "Each cut-off has conncatenation of ethereum addresses 'sender'+'recepient' and the total value transacted up to that block cut-off. "
   ]
  },
  {
   "cell_type": "markdown",
   "metadata": {},
   "source": [
    "**Script to generate undirected graph structure**"
   ]
  },
  {
   "cell_type": "code",
   "execution_count": 58,
   "metadata": {},
   "outputs": [],
   "source": [
    "edges_array=[]\n",
    "for i in range(len(miners_evolution)):\n",
    "\n",
    "    miners_ex=miners_evolution[i]\n",
    "    # Transform concatenation into tuple of miner ids\n",
    "    # Extract array\n",
    "    address_ex=miners_ex[:,0] \n",
    "    address_ex=address_ex.astype(np.str)\n",
    "\n",
    "    # Split strings into two separate lists: join_list_0 and join_list_1\n",
    "    split_ad=np.char.rpartition(address_ex,'0x')\n",
    "    split_ad_m=np.split(split_ad,[1,2],axis=1) \n",
    "    join=np.core.defchararray.add(split_ad_m[1],split_ad_m[2])\n",
    "    join_0=np.squeeze(split_ad_m[0])\n",
    "    join_list_0=[miners.miner_id[address] for address in join_0]\n",
    "    join=np.squeeze(join)\n",
    "    join_list_1=[miners.miner_id[address] for address in join ]\n",
    "\n",
    "    # Create array of unique edges and edge_weights (undirected graph) to feed to Graph definition \n",
    "    tuples=zip(join_list_0,join_list_1)\n",
    "    tuples_list=[(a,b) for a,b in tuples]\n",
    "    w_edges=np.array([[tuple(sorted(t)),w] for t,w in zip(tuples_list,miners_ex[:,1])]) #sort tuples to group by unique connections\n",
    "    w_edges_df=pd.DataFrame(data=w_edges,columns=['edge','value'])\n",
    "    w_edges_df=w_edges_df.groupby('edge').sum() # sum connections to define 'edge weight' as sum of transactions\n",
    "    w_edges_df['edge']=w_edges_df.index\n",
    "    edges_final=[(e[0],e[1],{'value':v}) for e,v in zip(w_edges_df['edge'],w_edges_df['value'])]\n",
    "    edges_array.append(edges_final)\n",
    "\n",
    "# Aggregate all arrays\n",
    "edges_array=np.array(edges_array)\n"
   ]
  },
  {
   "cell_type": "code",
   "execution_count": 59,
   "metadata": {},
   "outputs": [],
   "source": [
    "#Save in disk\n",
    "np.save('/Users/dsrincon/Dropbox/Personal/EDU/Posgrado/masters_usa/MIMS/research/miner_network/data/miner_trans_edges.npy',edges_array)"
   ]
  },
  {
   "cell_type": "code",
   "execution_count": 60,
   "metadata": {},
   "outputs": [],
   "source": [
    "# Save Test\n",
    "m=np.load('/Users/dsrincon/Dropbox/Personal/EDU/Posgrado/masters_usa/MIMS/research/miner_network/data/miner_trans_edges.npy',allow_pickle=True)\n",
    "l=[(x[0],x[1],x[2]) for x in m[40]]\n",
    "print(l[900:1000])"
   ]
  },
  {
   "cell_type": "markdown",
   "metadata": {},
   "source": [
    "**Script to generate directed graph structure**"
   ]
  },
  {
   "cell_type": "code",
   "execution_count": 8,
   "metadata": {},
   "outputs": [],
   "source": [
    "dir_edges_array=[]\n",
    "for i in range(len(miners_evolution)):\n",
    "\n",
    "    miners_ex=miners_evolution[i]\n",
    "    # Transform concatenation into tuple of miner ids\n",
    "    # Extract array\n",
    "    address_ex=miners_ex[:,0] \n",
    "    address_ex=address_ex.astype(np.str)\n",
    "\n",
    "    # Split strings into two separate lists: join_list_0 and join_list_1\n",
    "    split_ad=np.char.rpartition(address_ex,'0x')\n",
    "    split_ad_m=np.split(split_ad,[1,2],axis=1) \n",
    "    join=np.core.defchararray.add(split_ad_m[1],split_ad_m[2])\n",
    "    join_0=np.squeeze(split_ad_m[0])\n",
    "    join_list_0=[miners.miner_id[address] for address in join_0]\n",
    "    join=np.squeeze(join)\n",
    "    join_list_1=[miners.miner_id[address] for address in join ]\n",
    "\n",
    "    # Create array of unique edges and edge_weights (undirected graph) to feed to Graph definition \n",
    "    tuples=zip(join_list_0,join_list_1)\n",
    "    tuples_list=[(a,b) for a,b in tuples]\n",
    "    edges_final=[(e[0],e[1],{'value':v}) for e,v in zip(tuples_list,miners_ex[:,1])]\n",
    "    dir_edges_array.append(edges_final)\n",
    "\n",
    "# Aggregate all arrays\n",
    "dir_edges_array=np.array(dir_edges_array)\n"
   ]
  },
  {
   "cell_type": "code",
   "execution_count": 10,
   "metadata": {},
   "outputs": [],
   "source": [
    "#Save in disk\n",
    "np.save('/Users/dsrincon/Dropbox/Personal/EDU/Posgrado/masters_usa/MIMS/research/miner_network/data/dir_miner_trans_edges.npy',dir_edges_array)"
   ]
  }
 ],
 "metadata": {
  "kernelspec": {
   "display_name": "graphanalysis",
   "language": "python",
   "name": "graphanalysis"
  },
  "language_info": {
   "codemirror_mode": {
    "name": "ipython",
    "version": 3
   },
   "file_extension": ".py",
   "mimetype": "text/x-python",
   "name": "python",
   "nbconvert_exporter": "python",
   "pygments_lexer": "ipython3",
   "version": "3.6.9"
  }
 },
 "nbformat": 4,
 "nbformat_minor": 2
}
